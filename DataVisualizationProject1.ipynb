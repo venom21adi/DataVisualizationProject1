{
 "cells": [
  {
   "cell_type": "markdown",
   "id": "206bdef5",
   "metadata": {},
   "source": [
    "# This is an intectual property of the Glowworm Academy\n",
    "\n",
    "# Any unauthorized publishing,sharing, replicating is subjected to legal prosecustion \n",
    "\n",
    "# ------------------------------------------------------------------------------------------------------"
   ]
  },
  {
   "cell_type": "markdown",
   "id": "174bbd4e",
   "metadata": {},
   "source": [
    "### Let's build our first data visualization project using a real life data set.\n",
    "### It is important to understand that before starting to make predictions, we must learn how to understand the data and how to present our understanding about the data.\n",
    "#### Data Visualization = Art + Science\n",
    "### So this project is focused on how to apply our learnings of the data visualization module and put it in practice. The nature of this project is guided so that learners can learn from the notebook."
   ]
  },
  {
   "cell_type": "code",
   "execution_count": 2,
   "id": "2e0e7553",
   "metadata": {},
   "outputs": [],
   "source": [
    "#Let's import the relevant libraries\n",
    "import pandas as pd\n",
    "import matplotlib.pyplot as plt"
   ]
  },
  {
   "cell_type": "markdown",
   "id": "83c64fda",
   "metadata": {},
   "source": [
    "### The dataset that we are using for this project is a loan records dataset"
   ]
  },
  {
   "cell_type": "code",
   "execution_count": 3,
   "id": "9094bef5",
   "metadata": {},
   "outputs": [],
   "source": [
    "#Let's import dataset\n",
    "df = pd.read_csv(\"Loan_Dataset.csv\")"
   ]
  },
  {
   "cell_type": "markdown",
   "id": "e93f9205",
   "metadata": {},
   "source": [
    "#### First, we need to have a glimpse of our data.\n",
    "#### We will use the Pandas library to get an idea about the shape and size of the data set.\n",
    "#### We also need to get the idea about the column names in the data set.\n",
    "#### All will be clear to you once you start going further."
   ]
  },
  {
   "cell_type": "code",
   "execution_count": 4,
   "id": "61b10cdc",
   "metadata": {},
   "outputs": [
    {
     "data": {
      "text/html": [
       "<div>\n",
       "<style scoped>\n",
       "    .dataframe tbody tr th:only-of-type {\n",
       "        vertical-align: middle;\n",
       "    }\n",
       "\n",
       "    .dataframe tbody tr th {\n",
       "        vertical-align: top;\n",
       "    }\n",
       "\n",
       "    .dataframe thead th {\n",
       "        text-align: right;\n",
       "    }\n",
       "</style>\n",
       "<table border=\"1\" class=\"dataframe\">\n",
       "  <thead>\n",
       "    <tr style=\"text-align: right;\">\n",
       "      <th></th>\n",
       "      <th>Loan_ID</th>\n",
       "      <th>Gender</th>\n",
       "      <th>Married</th>\n",
       "      <th>Dependents</th>\n",
       "      <th>Education</th>\n",
       "      <th>Self_Employed</th>\n",
       "      <th>ApplicantIncome</th>\n",
       "      <th>CoapplicantIncome</th>\n",
       "      <th>LoanAmount</th>\n",
       "      <th>Loan_Amount_Term</th>\n",
       "      <th>Credit_History</th>\n",
       "      <th>Property_Area</th>\n",
       "    </tr>\n",
       "  </thead>\n",
       "  <tbody>\n",
       "    <tr>\n",
       "      <th>0</th>\n",
       "      <td>LP001015</td>\n",
       "      <td>Male</td>\n",
       "      <td>Yes</td>\n",
       "      <td>0</td>\n",
       "      <td>Graduate</td>\n",
       "      <td>No</td>\n",
       "      <td>5720</td>\n",
       "      <td>0</td>\n",
       "      <td>110.0</td>\n",
       "      <td>360.0</td>\n",
       "      <td>1.0</td>\n",
       "      <td>Urban</td>\n",
       "    </tr>\n",
       "    <tr>\n",
       "      <th>1</th>\n",
       "      <td>LP001022</td>\n",
       "      <td>Male</td>\n",
       "      <td>Yes</td>\n",
       "      <td>1</td>\n",
       "      <td>Graduate</td>\n",
       "      <td>No</td>\n",
       "      <td>3076</td>\n",
       "      <td>1500</td>\n",
       "      <td>126.0</td>\n",
       "      <td>360.0</td>\n",
       "      <td>1.0</td>\n",
       "      <td>Urban</td>\n",
       "    </tr>\n",
       "    <tr>\n",
       "      <th>2</th>\n",
       "      <td>LP001031</td>\n",
       "      <td>Male</td>\n",
       "      <td>Yes</td>\n",
       "      <td>2</td>\n",
       "      <td>Graduate</td>\n",
       "      <td>No</td>\n",
       "      <td>5000</td>\n",
       "      <td>1800</td>\n",
       "      <td>208.0</td>\n",
       "      <td>360.0</td>\n",
       "      <td>1.0</td>\n",
       "      <td>Urban</td>\n",
       "    </tr>\n",
       "    <tr>\n",
       "      <th>3</th>\n",
       "      <td>LP001035</td>\n",
       "      <td>Male</td>\n",
       "      <td>Yes</td>\n",
       "      <td>2</td>\n",
       "      <td>Graduate</td>\n",
       "      <td>No</td>\n",
       "      <td>2340</td>\n",
       "      <td>2546</td>\n",
       "      <td>100.0</td>\n",
       "      <td>360.0</td>\n",
       "      <td>NaN</td>\n",
       "      <td>Urban</td>\n",
       "    </tr>\n",
       "    <tr>\n",
       "      <th>4</th>\n",
       "      <td>LP001051</td>\n",
       "      <td>Male</td>\n",
       "      <td>No</td>\n",
       "      <td>0</td>\n",
       "      <td>Not Graduate</td>\n",
       "      <td>No</td>\n",
       "      <td>3276</td>\n",
       "      <td>0</td>\n",
       "      <td>78.0</td>\n",
       "      <td>360.0</td>\n",
       "      <td>1.0</td>\n",
       "      <td>Urban</td>\n",
       "    </tr>\n",
       "  </tbody>\n",
       "</table>\n",
       "</div>"
      ],
      "text/plain": [
       "    Loan_ID Gender Married Dependents     Education Self_Employed  \\\n",
       "0  LP001015   Male     Yes          0      Graduate            No   \n",
       "1  LP001022   Male     Yes          1      Graduate            No   \n",
       "2  LP001031   Male     Yes          2      Graduate            No   \n",
       "3  LP001035   Male     Yes          2      Graduate            No   \n",
       "4  LP001051   Male      No          0  Not Graduate            No   \n",
       "\n",
       "   ApplicantIncome  CoapplicantIncome  LoanAmount  Loan_Amount_Term  \\\n",
       "0             5720                  0       110.0             360.0   \n",
       "1             3076               1500       126.0             360.0   \n",
       "2             5000               1800       208.0             360.0   \n",
       "3             2340               2546       100.0             360.0   \n",
       "4             3276                  0        78.0             360.0   \n",
       "\n",
       "   Credit_History Property_Area  \n",
       "0             1.0         Urban  \n",
       "1             1.0         Urban  \n",
       "2             1.0         Urban  \n",
       "3             NaN         Urban  \n",
       "4             1.0         Urban  "
      ]
     },
     "execution_count": 4,
     "metadata": {},
     "output_type": "execute_result"
    }
   ],
   "source": [
    "#Printing the first 5 rows of the data set\n",
    "df.head()"
   ]
  },
  {
   "cell_type": "code",
   "execution_count": 5,
   "id": "910a0dbb",
   "metadata": {},
   "outputs": [
    {
     "data": {
      "text/html": [
       "<div>\n",
       "<style scoped>\n",
       "    .dataframe tbody tr th:only-of-type {\n",
       "        vertical-align: middle;\n",
       "    }\n",
       "\n",
       "    .dataframe tbody tr th {\n",
       "        vertical-align: top;\n",
       "    }\n",
       "\n",
       "    .dataframe thead th {\n",
       "        text-align: right;\n",
       "    }\n",
       "</style>\n",
       "<table border=\"1\" class=\"dataframe\">\n",
       "  <thead>\n",
       "    <tr style=\"text-align: right;\">\n",
       "      <th></th>\n",
       "      <th>Loan_ID</th>\n",
       "      <th>Gender</th>\n",
       "      <th>Married</th>\n",
       "      <th>Dependents</th>\n",
       "      <th>Education</th>\n",
       "      <th>Self_Employed</th>\n",
       "      <th>ApplicantIncome</th>\n",
       "      <th>CoapplicantIncome</th>\n",
       "      <th>LoanAmount</th>\n",
       "      <th>Loan_Amount_Term</th>\n",
       "      <th>Credit_History</th>\n",
       "      <th>Property_Area</th>\n",
       "    </tr>\n",
       "  </thead>\n",
       "  <tbody>\n",
       "    <tr>\n",
       "      <th>362</th>\n",
       "      <td>LP002971</td>\n",
       "      <td>Male</td>\n",
       "      <td>Yes</td>\n",
       "      <td>3+</td>\n",
       "      <td>Not Graduate</td>\n",
       "      <td>Yes</td>\n",
       "      <td>4009</td>\n",
       "      <td>1777</td>\n",
       "      <td>113.0</td>\n",
       "      <td>360.0</td>\n",
       "      <td>1.0</td>\n",
       "      <td>Urban</td>\n",
       "    </tr>\n",
       "    <tr>\n",
       "      <th>363</th>\n",
       "      <td>LP002975</td>\n",
       "      <td>Male</td>\n",
       "      <td>Yes</td>\n",
       "      <td>0</td>\n",
       "      <td>Graduate</td>\n",
       "      <td>No</td>\n",
       "      <td>4158</td>\n",
       "      <td>709</td>\n",
       "      <td>115.0</td>\n",
       "      <td>360.0</td>\n",
       "      <td>1.0</td>\n",
       "      <td>Urban</td>\n",
       "    </tr>\n",
       "    <tr>\n",
       "      <th>364</th>\n",
       "      <td>LP002980</td>\n",
       "      <td>Male</td>\n",
       "      <td>No</td>\n",
       "      <td>0</td>\n",
       "      <td>Graduate</td>\n",
       "      <td>No</td>\n",
       "      <td>3250</td>\n",
       "      <td>1993</td>\n",
       "      <td>126.0</td>\n",
       "      <td>360.0</td>\n",
       "      <td>NaN</td>\n",
       "      <td>Semiurban</td>\n",
       "    </tr>\n",
       "    <tr>\n",
       "      <th>365</th>\n",
       "      <td>LP002986</td>\n",
       "      <td>Male</td>\n",
       "      <td>Yes</td>\n",
       "      <td>0</td>\n",
       "      <td>Graduate</td>\n",
       "      <td>No</td>\n",
       "      <td>5000</td>\n",
       "      <td>2393</td>\n",
       "      <td>158.0</td>\n",
       "      <td>360.0</td>\n",
       "      <td>1.0</td>\n",
       "      <td>Rural</td>\n",
       "    </tr>\n",
       "    <tr>\n",
       "      <th>366</th>\n",
       "      <td>LP002989</td>\n",
       "      <td>Male</td>\n",
       "      <td>No</td>\n",
       "      <td>0</td>\n",
       "      <td>Graduate</td>\n",
       "      <td>Yes</td>\n",
       "      <td>9200</td>\n",
       "      <td>0</td>\n",
       "      <td>98.0</td>\n",
       "      <td>180.0</td>\n",
       "      <td>1.0</td>\n",
       "      <td>Rural</td>\n",
       "    </tr>\n",
       "  </tbody>\n",
       "</table>\n",
       "</div>"
      ],
      "text/plain": [
       "      Loan_ID Gender Married Dependents     Education Self_Employed  \\\n",
       "362  LP002971   Male     Yes         3+  Not Graduate           Yes   \n",
       "363  LP002975   Male     Yes          0      Graduate            No   \n",
       "364  LP002980   Male      No          0      Graduate            No   \n",
       "365  LP002986   Male     Yes          0      Graduate            No   \n",
       "366  LP002989   Male      No          0      Graduate           Yes   \n",
       "\n",
       "     ApplicantIncome  CoapplicantIncome  LoanAmount  Loan_Amount_Term  \\\n",
       "362             4009               1777       113.0             360.0   \n",
       "363             4158                709       115.0             360.0   \n",
       "364             3250               1993       126.0             360.0   \n",
       "365             5000               2393       158.0             360.0   \n",
       "366             9200                  0        98.0             180.0   \n",
       "\n",
       "     Credit_History Property_Area  \n",
       "362             1.0         Urban  \n",
       "363             1.0         Urban  \n",
       "364             NaN     Semiurban  \n",
       "365             1.0         Rural  \n",
       "366             1.0         Rural  "
      ]
     },
     "execution_count": 5,
     "metadata": {},
     "output_type": "execute_result"
    }
   ],
   "source": [
    "#Printing the last 5 rows of the data set\n",
    "\n",
    "df.tail()"
   ]
  },
  {
   "cell_type": "code",
   "execution_count": 6,
   "id": "c1cd593e",
   "metadata": {},
   "outputs": [
    {
     "name": "stdout",
     "output_type": "stream",
     "text": [
      "The number of rows in a dataset is:  367\n",
      "The number of columns in a dataset is:  12\n"
     ]
    }
   ],
   "source": [
    "#Finding out the number of rows and columns in a dataset\n",
    "print(\"The number of rows in a dataset is: \",df.shape[0])\n",
    "print(\"The number of columns in a dataset is: \",df.shape[1])"
   ]
  },
  {
   "cell_type": "code",
   "execution_count": 7,
   "id": "dc37cd5a",
   "metadata": {},
   "outputs": [
    {
     "name": "stdout",
     "output_type": "stream",
     "text": [
      "Loan_ID\n",
      "Gender\n",
      "Married\n",
      "Dependents\n",
      "Education\n",
      "Self_Employed\n",
      "ApplicantIncome\n",
      "CoapplicantIncome\n",
      "LoanAmount\n",
      "Loan_Amount_Term\n",
      "Credit_History\n",
      "Property_Area\n"
     ]
    }
   ],
   "source": [
    "#Finding the name of the columns of the data set\n",
    "for i in range(len(df.columns)):\n",
    "    print(df.columns[i])\n"
   ]
  },
  {
   "cell_type": "markdown",
   "id": "b4df05f2",
   "metadata": {},
   "source": [
    "### For better understanding we are mentioning what each column title actually means.\n",
    "\n",
    "<b>Loan_ID</b> - Application ID<br>\n",
    "<b>Gender</b> - Gender of the applicant<br>\n",
    "<b>Married</b> - Marital status of the applicant<br>\n",
    "<b>Dependents</b> - How many dependents the applicant have? (Spouse, parents, childern etc.)<br>\n",
    "<b>Education</b> - Education level of the applicant<br>\n",
    "<b>Self_Employed</b> - Whether the applicant is self-employed or not<br>\n",
    "<b>ApplicantIncome</b> - Income of the applicant<br>\n",
    "<b>CoapplicantIncome</b> - If more than one person is applying for the loan what is the co-applicant's income<br>\n",
    "<b>LoanAmount</b> - The loan amount that was applied in USD<br>\n",
    "<b>Loan_Amount_Term</b> - The duration of the loan <br>\n",
    "<b>Credit_History</b> - Past credit history of the applicant<br>\n",
    "<ul>If the value is 1 than the past credit record is good.</ul>\n",
    "<ul>If the value is 0 than the past credit record is bad.</ul><br>\n",
    "<b>Property_Area</b> - Where does the applicant live?\n",
    "\n",
    "#### ------------------------------------------------------------------------------------------------------------------------------------------------------------"
   ]
  },
  {
   "cell_type": "markdown",
   "id": "c842ec5a",
   "metadata": {},
   "source": [
    "### Let's see how applicant income varies"
   ]
  },
  {
   "cell_type": "code",
   "execution_count": 8,
   "id": "84fad07f",
   "metadata": {},
   "outputs": [
    {
     "data": {
      "text/plain": [
       "<matplotlib.legend.Legend at 0x1e47ef79278>"
      ]
     },
     "execution_count": 8,
     "metadata": {},
     "output_type": "execute_result"
    },
    {
     "data": {
      "image/png": "[encoded data removed]",
      "text/plain": [
       "<Figure size 792x432 with 1 Axes>"
      ]
     },
     "metadata": {
      "needs_background": "light"
     },
     "output_type": "display_data"
    }
   ],
   "source": [
    "#Let's use the line plot\n",
    "#Setting the figure size\n",
    "plt.figure(figsize=(11,6))\n",
    "plt.plot(df['ApplicantIncome'],label = 'Applicant Income')\n",
    "plt.title(\"Applicant Income\")\n",
    "plt.xlabel(\"Applicants\")\n",
    "plt.ylabel(\"Applicant Income (USD)\")\n",
    "plt.legend()"
   ]
  },
  {
   "cell_type": "markdown",
   "id": "3f1b6503",
   "metadata": {},
   "source": [
    "## Conclusion\n",
    "\n",
    "#### From the above plot, it can be understood that there is a significant amount of variation in the applicant's income.\n",
    "#### However, this is not enough to understand the data\n",
    "#### We need to do more investigation let's plot the mean, maximum and the minimum line."
   ]
  },
  {
   "cell_type": "code",
   "execution_count": 9,
   "id": "dc5cc1df",
   "metadata": {},
   "outputs": [
    {
     "data": {
      "text/plain": [
       "<matplotlib.legend.Legend at 0x1e47f012e10>"
      ]
     },
     "execution_count": 9,
     "metadata": {},
     "output_type": "execute_result"
    },
    {
     "data": {
      "image/png": "[encoded data removed]",
      "text/plain": [
       "<Figure size 792x432 with 1 Axes>"
      ]
     },
     "metadata": {
      "needs_background": "light"
     },
     "output_type": "display_data"
    }
   ],
   "source": [
    "#Let's see how applicant income varies using line plot\n",
    "#Setting the figure size\n",
    "plt.figure(figsize=(11,6))\n",
    "plt.plot(df['ApplicantIncome'])\n",
    "plt.title(\"Applicant Income\")\n",
    "plt.hlines(y = df['ApplicantIncome'].max(),label = \"Maximum applicant Income\",xmin =0,xmax = 350,color ='green')\n",
    "plt.hlines(y = df['ApplicantIncome'].mean(),label = \"Average applicant Income\",xmin =0,xmax = 350,color ='black')\n",
    "plt.hlines(y = df['ApplicantIncome'].min(),label = \"Minmum applicant Income\",xmin =0,xmax = 350,color ='red')\n",
    "plt.xlabel(\"Applicants\")\n",
    "plt.ylabel(\"Applicant Income (USD)\")\n",
    "plt.legend()"
   ]
  },
  {
   "cell_type": "markdown",
   "id": "951e88cc",
   "metadata": {},
   "source": [
    "## Conclusion\n",
    "#### From the above plot, we can understand that only a few entries are very far from the mean line.\n",
    "#### Those entries which are very far from the mean can be considered as outliers.\n",
    "#### However, there are specific methods to find the outliers which are discussed in the Applied Statistics section.\n",
    "\n",
    "#### ------------------------------------------------------------------------------------------------------------------------------------------------------------"
   ]
  },
  {
   "cell_type": "markdown",
   "id": "8832d84a",
   "metadata": {},
   "source": [
    "## Let's find out how many applicants are male and how many are female?"
   ]
  },
  {
   "cell_type": "code",
   "execution_count": 10,
   "id": "958d341e",
   "metadata": {},
   "outputs": [],
   "source": [
    "#Extracting the counts of gender\n",
    "data1 = dict(df['Gender'].value_counts())"
   ]
  },
  {
   "cell_type": "code",
   "execution_count": 11,
   "id": "4d7e3b47",
   "metadata": {},
   "outputs": [
    {
     "data": {
      "text/plain": [
       "{'Male': 286, 'Female': 70}"
      ]
     },
     "execution_count": 11,
     "metadata": {},
     "output_type": "execute_result"
    }
   ],
   "source": [
    "data1"
   ]
  },
  {
   "cell_type": "code",
   "execution_count": 12,
   "id": "8936e53e",
   "metadata": {},
   "outputs": [
    {
     "data": {
      "text/plain": [
       "Text(0, 0.5, 'Number of Applicants')"
      ]
     },
     "execution_count": 12,
     "metadata": {},
     "output_type": "execute_result"
    },
    {
     "data": {
      "image/png": "[encoded data removed]",
      "text/plain": [
       "<Figure size 792x432 with 1 Axes>"
      ]
     },
     "metadata": {
      "needs_background": "light"
     },
     "output_type": "display_data"
    }
   ],
   "source": [
    "#Let's visualize the applicants based on their genders\n",
    "#Setting the figure size\n",
    "plt.figure(figsize=(11,6))\n",
    "plt.bar(x = data1.keys(),height=data1.values())\n",
    "plt.title(\"Number of applicants based on gender\")\n",
    "plt.xlabel(\"Gender\")\n",
    "plt.ylabel(\"Number of Applicants\")"
   ]
  },
  {
   "cell_type": "markdown",
   "id": "04b0d621",
   "metadata": {},
   "source": [
    "## Let's find out how many applicants are married?"
   ]
  },
  {
   "cell_type": "code",
   "execution_count": 13,
   "id": "21615cad",
   "metadata": {},
   "outputs": [],
   "source": [
    "#Extracting the counts of Married status\n",
    "data2 = dict(df['Married'].value_counts())"
   ]
  },
  {
   "cell_type": "code",
   "execution_count": 14,
   "id": "68e40443",
   "metadata": {},
   "outputs": [
    {
     "data": {
      "text/plain": [
       "{'Yes': 233, 'No': 134}"
      ]
     },
     "execution_count": 14,
     "metadata": {},
     "output_type": "execute_result"
    }
   ],
   "source": [
    "data2"
   ]
  },
  {
   "cell_type": "code",
   "execution_count": 15,
   "id": "3544a2be",
   "metadata": {},
   "outputs": [
    {
     "data": {
      "text/plain": [
       "Text(0, 0.5, 'Number of Applicants')"
      ]
     },
     "execution_count": 15,
     "metadata": {},
     "output_type": "execute_result"
    },
    {
     "data": {
      "image/png": "[encoded data removed]",
      "text/plain": [
       "<Figure size 792x432 with 1 Axes>"
      ]
     },
     "metadata": {
      "needs_background": "light"
     },
     "output_type": "display_data"
    }
   ],
   "source": [
    "#Let's visualize the applicants based on their marital status\n",
    "#Setting the figure size\n",
    "plt.figure(figsize=(11,6))\n",
    "plt.bar(x = data2.keys(),height=data2.values())\n",
    "plt.title(\"Number of applicants based on marital status\")\n",
    "plt.xlabel(\"Marital Status\")\n",
    "plt.ylabel(\"Number of Applicants\")"
   ]
  },
  {
   "cell_type": "markdown",
   "id": "05766519",
   "metadata": {},
   "source": [
    "## Let's find out how many applicants are graduated?"
   ]
  },
  {
   "cell_type": "code",
   "execution_count": 16,
   "id": "2a9d6980",
   "metadata": {},
   "outputs": [],
   "source": [
    "#Extracting the counts of Educational status\n",
    "data3 = dict(df['Education'].value_counts())"
   ]
  },
  {
   "cell_type": "code",
   "execution_count": 17,
   "id": "4f56e688",
   "metadata": {},
   "outputs": [
    {
     "data": {
      "text/plain": [
       "{'Graduate': 283, 'Not Graduate': 84}"
      ]
     },
     "execution_count": 17,
     "metadata": {},
     "output_type": "execute_result"
    }
   ],
   "source": [
    "data3"
   ]
  },
  {
   "cell_type": "code",
   "execution_count": 18,
   "id": "da3cc1d5",
   "metadata": {},
   "outputs": [
    {
     "data": {
      "text/plain": [
       "Text(0, 0.5, 'Number of Applicants')"
      ]
     },
     "execution_count": 18,
     "metadata": {},
     "output_type": "execute_result"
    },
    {
     "data": {
      "image/png": "[encoded data removed]",
      "text/plain": [
       "<Figure size 792x432 with 1 Axes>"
      ]
     },
     "metadata": {
      "needs_background": "light"
     },
     "output_type": "display_data"
    }
   ],
   "source": [
    "#Let's visualize the applicants based on their Educational status\n",
    "#Setting the figure size\n",
    "plt.figure(figsize=(11,6))\n",
    "plt.bar(x = data3.keys(),height=data3.values())\n",
    "plt.title(\"Number of applicants based on Educational status\")\n",
    "plt.xlabel(\"Educational status\")\n",
    "plt.ylabel(\"Number of Applicants\")"
   ]
  },
  {
   "cell_type": "markdown",
   "id": "bfcdfb66",
   "metadata": {},
   "source": [
    "## Let's visualize the applicants based on their living area"
   ]
  },
  {
   "cell_type": "code",
   "execution_count": 19,
   "id": "fb65721f",
   "metadata": {},
   "outputs": [],
   "source": [
    "#Extracting the counts of living area\n",
    "data4 = dict(df['Property_Area'].value_counts())"
   ]
  },
  {
   "cell_type": "code",
   "execution_count": 20,
   "id": "11a9cd95",
   "metadata": {},
   "outputs": [
    {
     "data": {
      "text/plain": [
       "{'Urban': 140, 'Semiurban': 116, 'Rural': 111}"
      ]
     },
     "execution_count": 20,
     "metadata": {},
     "output_type": "execute_result"
    }
   ],
   "source": [
    "data4"
   ]
  },
  {
   "cell_type": "code",
   "execution_count": 21,
   "id": "7a3d1608",
   "metadata": {},
   "outputs": [
    {
     "data": {
      "text/plain": [
       "Text(0, 0.5, 'Number of Applicants')"
      ]
     },
     "execution_count": 21,
     "metadata": {},
     "output_type": "execute_result"
    },
    {
     "data": {
      "image/png": "[encoded data removed]",
      "text/plain": [
       "<Figure size 792x432 with 1 Axes>"
      ]
     },
     "metadata": {
      "needs_background": "light"
     },
     "output_type": "display_data"
    }
   ],
   "source": [
    "#Let's visualize the applicants based on their living area\n",
    "#Setting the figure size\n",
    "plt.figure(figsize=(11,6))\n",
    "plt.bar(x = data4.keys(),height=data4.values())\n",
    "plt.title(\"Number of applicants based on living area\")\n",
    "plt.xlabel(\"living area\")\n",
    "plt.ylabel(\"Number of Applicants\")"
   ]
  },
  {
   "cell_type": "markdown",
   "id": "d671819f",
   "metadata": {},
   "source": [
    "## Let's visualize the applicants based on their number of dependents"
   ]
  },
  {
   "cell_type": "code",
   "execution_count": 22,
   "id": "6cc79c70",
   "metadata": {},
   "outputs": [],
   "source": [
    "#Extracting the counts of living area\n",
    "data5 = dict(df['Dependents'].value_counts())"
   ]
  },
  {
   "cell_type": "code",
   "execution_count": 23,
   "id": "0a426073",
   "metadata": {},
   "outputs": [
    {
     "data": {
      "text/plain": [
       "{'0': 200, '2': 59, '1': 58, '3+': 40}"
      ]
     },
     "execution_count": 23,
     "metadata": {},
     "output_type": "execute_result"
    }
   ],
   "source": [
    "data5"
   ]
  },
  {
   "cell_type": "code",
   "execution_count": 24,
   "id": "f46f312c",
   "metadata": {},
   "outputs": [
    {
     "data": {
      "text/plain": [
       "Text(0, 0.5, 'Number of Applicants')"
      ]
     },
     "execution_count": 24,
     "metadata": {},
     "output_type": "execute_result"
    },
    {
     "data": {
      "image/png": "[encoded data removed]",
      "text/plain": [
       "<Figure size 792x432 with 1 Axes>"
      ]
     },
     "metadata": {
      "needs_background": "light"
     },
     "output_type": "display_data"
    }
   ],
   "source": [
    "#Let's visualize the applicants based on their number of dependents\n",
    "#Setting the figure size\n",
    "plt.figure(figsize=(11,6))\n",
    "plt.bar(x = data5.keys(),height=data5.values())\n",
    "plt.title(\"Number of applicants based on number of dependents\")\n",
    "plt.xlabel(\"living area\")\n",
    "plt.ylabel(\"Number of Applicants\")"
   ]
  },
  {
   "cell_type": "markdown",
   "id": "3ea117ce",
   "metadata": {},
   "source": [
    "## Let's visualize how loan Amount is distributied"
   ]
  },
  {
   "cell_type": "code",
   "execution_count": 44,
   "id": "2499dc29",
   "metadata": {},
   "outputs": [
    {
     "data": {
      "text/plain": [
       "Text(0, 0.5, 'Loan Amount (USD)')"
      ]
     },
     "execution_count": 44,
     "metadata": {},
     "output_type": "execute_result"
    },
    {
     "data": {
      "image/png": "[encoded data removed]",
      "text/plain": [
       "<Figure size 792x432 with 1 Axes>"
      ]
     },
     "metadata": {
      "needs_background": "light"
     },
     "output_type": "display_data"
    }
   ],
   "source": [
    "#Let's use histogram\n",
    "#Setting the figure size\n",
    "plt.figure(figsize=(11,6))\n",
    "plt.hist(x =df['LoanAmount'])\n",
    "plt.title(\"Loan Amount distribution for application\")\n",
    "plt.xlabel(\"Number of Applicants\")\n",
    "plt.ylabel(\"Loan Amount (USD)\")\n"
   ]
  },
  {
   "cell_type": "markdown",
   "id": "e21e5d16",
   "metadata": {},
   "source": [
    "## Conclusion\n",
    "\n",
    "#### As we can see that the abve distribution is the right skewed.\n",
    "\n",
    "#### Further, maximum number of applicants are applying for a loan amount 160 USD."
   ]
  },
  {
   "cell_type": "code",
   "execution_count": 47,
   "id": "2f413c33",
   "metadata": {},
   "outputs": [],
   "source": [
    "#Printing the maximum, minimum and the average of the loan amount"
   ]
  },
  {
   "cell_type": "code",
   "execution_count": 49,
   "id": "c59507c9",
   "metadata": {},
   "outputs": [
    {
     "name": "stdout",
     "output_type": "stream",
     "text": [
      "The maximum loan amount is:  550.0\n"
     ]
    }
   ],
   "source": [
    "print(\"The maximum loan amount is: \",df['LoanAmount'].max())"
   ]
  },
  {
   "cell_type": "code",
   "execution_count": 50,
   "id": "b8d1dfda",
   "metadata": {},
   "outputs": [
    {
     "name": "stdout",
     "output_type": "stream",
     "text": [
      "The minimum loan amount is:  28.0\n"
     ]
    }
   ],
   "source": [
    "print(\"The minimum loan amount is: \",df['LoanAmount'].min())"
   ]
  },
  {
   "cell_type": "code",
   "execution_count": 51,
   "id": "5c1c6879",
   "metadata": {},
   "outputs": [
    {
     "name": "stdout",
     "output_type": "stream",
     "text": [
      "The average loan amount is:  136.13259668508286\n"
     ]
    }
   ],
   "source": [
    "print(\"The average loan amount is: \",df['LoanAmount'].mean())"
   ]
  },
  {
   "cell_type": "markdown",
   "id": "94959787",
   "metadata": {},
   "source": [
    "## Let's visualize how loan Amount is distributied\n"
   ]
  },
  {
   "cell_type": "code",
   "execution_count": null,
   "id": "247fe8a1",
   "metadata": {},
   "outputs": [],
   "source": []
  },
  {
   "cell_type": "code",
   "execution_count": null,
   "id": "76750202",
   "metadata": {},
   "outputs": [],
   "source": []
  },
  {
   "cell_type": "code",
   "execution_count": null,
   "id": "233f0d9f",
   "metadata": {},
   "outputs": [],
   "source": []
  },
  {
   "cell_type": "code",
   "execution_count": null,
   "id": "e2417667",
   "metadata": {},
   "outputs": [],
   "source": []
  },
  {
   "cell_type": "code",
   "execution_count": null,
   "id": "d2308e46",
   "metadata": {},
   "outputs": [],
   "source": []
  },
  {
   "cell_type": "code",
   "execution_count": null,
   "id": "3216b464",
   "metadata": {},
   "outputs": [],
   "source": []
  }
 ],
 "metadata": {
  "kernelspec": {
   "display_name": "Python 3",
   "language": "python",
   "name": "python3"
  },
  "language_info": {
   "codemirror_mode": {
    "name": "ipython",
    "version": 3
   },
   "file_extension": ".py",
   "mimetype": "text/x-python",
   "name": "python",
   "nbconvert_exporter": "python",
   "pygments_lexer": "ipython3",
   "version": "3.6.10"
  }
 },
 "nbformat": 4,
 "nbformat_minor": 5
}
